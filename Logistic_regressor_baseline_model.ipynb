{
  "nbformat": 4,
  "nbformat_minor": 0,
  "metadata": {
    "colab": {
      "provenance": [],
      "authorship_tag": "ABX9TyO32Puqneq+zI4QDCT/9tDD",
      "include_colab_link": true
    },
    "kernelspec": {
      "name": "python3",
      "display_name": "Python 3"
    },
    "language_info": {
      "name": "python"
    }
  },
  "cells": [
    {
      "cell_type": "markdown",
      "metadata": {
        "id": "view-in-github",
        "colab_type": "text"
      },
      "source": [
        "<a href=\"https://colab.research.google.com/github/patsoong/CS506FinalProject/blob/main/Logistic_regressor_baseline_model.ipynb\" target=\"_parent\"><img src=\"https://colab.research.google.com/assets/colab-badge.svg\" alt=\"Open In Colab\"/></a>"
      ]
    },
    {
      "cell_type": "code",
      "execution_count": null,
      "metadata": {
        "id": "hsvheP2nMNBP"
      },
      "outputs": [],
      "source": [
        "from sklearn.linear_model import LogisticRegression\n",
        "from sklearn.preprocessing import StandardScaler\n",
        "from sklearn.pipeline import Pipeline\n",
        "import pandas as pd\n",
        "\n",
        "features_df = pd.read_csv() #needs implementing\n",
        "\n",
        "num_cols = features_df.select_dtypes(include=\"number\").columns.tolist() #remove features not to be used in training data\n",
        "for col in [\"won_title\", \"season\"]:\n",
        "    if col in num_cols:\n",
        "        num_cols.remove(col)\n",
        "\n",
        "X = features_df[num_cols].copy()\n",
        "y = features_df[\"won_title\"].astype(int)\n",
        "\n",
        "train_mask = features_df[\"season\"] <= 2015\n",
        "X_train, X_test = X[train_mask], X[~train_mask]\n",
        "y_train, y_test = y[train_mask], y[~train_mask]\n",
        "\n",
        "id_test = features_df.loc[~train_mask, [\"season\", \"team\", \"won_title\"]].copy()\n",
        "\n",
        "model = Pipeline([\n",
        "    (\"scale\", StandardScaler(with_mean=True, with_std=True)),\n",
        "    (\"clf\", LogisticRegression(multi_class='ovr', class_weight='balanced', max_iter=10000))\n",
        "])\n",
        "\n",
        "model.fit(X_train, y_train)\n",
        "probabilities = model.predict_proba(X_test)[:, 1]\n",
        "\n",
        "id_test[\"proba_win\"] = probabilities\n",
        "\n",
        "true_champs = id_test[id_test[\"won_title\"] == 1][[\"season\", \"team\"]]\n",
        "predicted_champs = id_test.groupby(\"season\").apply(lambda df: df.nlargest(1, \"proba_win\"))\n",
        "eval = predicted_champs.merge(true_champs, on=\"season\", suffixes=(\"_pred\", \"_true\"))\n",
        "eval[\"correct\"] = (eval[\"team_pred\"] == eval[\"team_true\"]).astype(int)\n",
        "print(\"Top-1 accuracy:\", eval[\"correct\"].mean())"
      ]
    }
  ]
}